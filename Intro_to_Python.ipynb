{
  "nbformat": 4,
  "nbformat_minor": 0,
  "metadata": {
    "colab": {
      "provenance": []
    },
    "kernelspec": {
      "name": "python3",
      "display_name": "Python 3"
    },
    "language_info": {
      "name": "python"
    }
  },
  "cells": [
    {
      "cell_type": "code",
      "source": [
        "print(\"Hello World\")   #Basic universal example"
      ],
      "metadata": {
        "id": "c-KZXbtSkeKZ",
        "colab": {
          "base_uri": "https://localhost:8080/"
        },
        "outputId": "64fb1bc5-1f93-411b-d2fe-55339fe44748"
      },
      "execution_count": null,
      "outputs": [
        {
          "output_type": "stream",
          "name": "stdout",
          "text": [
            "Hello World\n"
          ]
        }
      ]
    },
    {
      "cell_type": "code",
      "source": [
        "\"hello\""
      ],
      "metadata": {
        "id": "b0hjzpi0kegD",
        "colab": {
          "base_uri": "https://localhost:8080/",
          "height": 35
        },
        "outputId": "dc023f79-4e62-43a1-d995-2f824c40451a"
      },
      "execution_count": null,
      "outputs": [
        {
          "output_type": "execute_result",
          "data": {
            "text/plain": [
              "'hello'"
            ],
            "application/vnd.google.colaboratory.intrinsic+json": {
              "type": "string"
            }
          },
          "metadata": {},
          "execution_count": 2
        }
      ]
    },
    {
      "cell_type": "code",
      "source": [
        "120/12*4-4"
      ],
      "metadata": {
        "colab": {
          "base_uri": "https://localhost:8080/"
        },
        "id": "9xU8e69ifzdQ",
        "outputId": "ec51994c-4673-458e-f987-2d5c9369cab7"
      },
      "execution_count": null,
      "outputs": [
        {
          "output_type": "execute_result",
          "data": {
            "text/plain": [
              "36.0"
            ]
          },
          "metadata": {},
          "execution_count": 4
        }
      ]
    },
    {
      "cell_type": "code",
      "source": [
        "#Assingning value to variable\n",
        "marks=80\n",
        "marks"
      ],
      "metadata": {
        "colab": {
          "base_uri": "https://localhost:8080/"
        },
        "id": "4gOalOLKgQdO",
        "outputId": "10727f27-9261-4bfb-ab45-68af95e69cfe"
      },
      "execution_count": null,
      "outputs": [
        {
          "output_type": "execute_result",
          "data": {
            "text/plain": [
              "80"
            ]
          },
          "metadata": {},
          "execution_count": 5
        }
      ]
    },
    {
      "cell_type": "code",
      "source": [
        "#To check datatype of variable\n",
        "type(marks)"
      ],
      "metadata": {
        "colab": {
          "base_uri": "https://localhost:8080/"
        },
        "id": "5HLtrQfZgle-",
        "outputId": "3bdb1954-258f-4c24-82e2-d2a49fe75667"
      },
      "execution_count": null,
      "outputs": [
        {
          "output_type": "execute_result",
          "data": {
            "text/plain": [
              "int"
            ]
          },
          "metadata": {},
          "execution_count": 6
        }
      ]
    },
    {
      "cell_type": "code",
      "source": [
        "5**2"
      ],
      "metadata": {
        "colab": {
          "base_uri": "https://localhost:8080/"
        },
        "id": "TJnfuUXsgzLQ",
        "outputId": "1743b36a-27d5-4cbd-a2fa-05c49b3dc72f"
      },
      "execution_count": null,
      "outputs": [
        {
          "output_type": "execute_result",
          "data": {
            "text/plain": [
              "25"
            ]
          },
          "metadata": {},
          "execution_count": 7
        }
      ]
    },
    {
      "cell_type": "code",
      "source": [
        "price=50.5\n",
        "price   #It shown only output of last line\n",
        "type(price)"
      ],
      "metadata": {
        "colab": {
          "base_uri": "https://localhost:8080/"
        },
        "id": "ZMHDLOmBhBXx",
        "outputId": "90aa0839-8ce8-4dc1-842f-35f54b1f8b3d"
      },
      "execution_count": null,
      "outputs": [
        {
          "output_type": "execute_result",
          "data": {
            "text/plain": [
              "float"
            ]
          },
          "metadata": {},
          "execution_count": 9
        }
      ]
    },
    {
      "cell_type": "code",
      "source": [
        "price=50.5\n",
        "print(price)   #To show all the outputs use print function\n",
        "type(price)"
      ],
      "metadata": {
        "colab": {
          "base_uri": "https://localhost:8080/"
        },
        "id": "Nt_5VTJbhcc7",
        "outputId": "2d33c9b0-c567-44bf-fe8e-14566a4b6556"
      },
      "execution_count": null,
      "outputs": [
        {
          "output_type": "stream",
          "name": "stdout",
          "text": [
            "50.5\n"
          ]
        },
        {
          "output_type": "execute_result",
          "data": {
            "text/plain": [
              "float"
            ]
          },
          "metadata": {},
          "execution_count": 10
        }
      ]
    },
    {
      "cell_type": "code",
      "source": [
        "name=\"Rio\"\n",
        "type(name)"
      ],
      "metadata": {
        "colab": {
          "base_uri": "https://localhost:8080/"
        },
        "id": "3zQR6Zpuh7wz",
        "outputId": "c4789074-d046-4cda-882b-a6059bfaa7d4"
      },
      "execution_count": null,
      "outputs": [
        {
          "output_type": "execute_result",
          "data": {
            "text/plain": [
              "str"
            ]
          },
          "metadata": {},
          "execution_count": 11
        }
      ]
    },
    {
      "cell_type": "code",
      "source": [
        "dir(str)"
      ],
      "metadata": {
        "colab": {
          "base_uri": "https://localhost:8080/"
        },
        "id": "qDkT0HGiioP5",
        "outputId": "df0892c4-ced7-447e-9840-d38b3321a710"
      },
      "execution_count": null,
      "outputs": [
        {
          "output_type": "execute_result",
          "data": {
            "text/plain": [
              "['__add__',\n",
              " '__class__',\n",
              " '__contains__',\n",
              " '__delattr__',\n",
              " '__dir__',\n",
              " '__doc__',\n",
              " '__eq__',\n",
              " '__format__',\n",
              " '__ge__',\n",
              " '__getattribute__',\n",
              " '__getitem__',\n",
              " '__getnewargs__',\n",
              " '__gt__',\n",
              " '__hash__',\n",
              " '__init__',\n",
              " '__init_subclass__',\n",
              " '__iter__',\n",
              " '__le__',\n",
              " '__len__',\n",
              " '__lt__',\n",
              " '__mod__',\n",
              " '__mul__',\n",
              " '__ne__',\n",
              " '__new__',\n",
              " '__reduce__',\n",
              " '__reduce_ex__',\n",
              " '__repr__',\n",
              " '__rmod__',\n",
              " '__rmul__',\n",
              " '__setattr__',\n",
              " '__sizeof__',\n",
              " '__str__',\n",
              " '__subclasshook__',\n",
              " 'capitalize',\n",
              " 'casefold',\n",
              " 'center',\n",
              " 'count',\n",
              " 'encode',\n",
              " 'endswith',\n",
              " 'expandtabs',\n",
              " 'find',\n",
              " 'format',\n",
              " 'format_map',\n",
              " 'index',\n",
              " 'isalnum',\n",
              " 'isalpha',\n",
              " 'isascii',\n",
              " 'isdecimal',\n",
              " 'isdigit',\n",
              " 'isidentifier',\n",
              " 'islower',\n",
              " 'isnumeric',\n",
              " 'isprintable',\n",
              " 'isspace',\n",
              " 'istitle',\n",
              " 'isupper',\n",
              " 'join',\n",
              " 'ljust',\n",
              " 'lower',\n",
              " 'lstrip',\n",
              " 'maketrans',\n",
              " 'partition',\n",
              " 'replace',\n",
              " 'rfind',\n",
              " 'rindex',\n",
              " 'rjust',\n",
              " 'rpartition',\n",
              " 'rsplit',\n",
              " 'rstrip',\n",
              " 'split',\n",
              " 'splitlines',\n",
              " 'startswith',\n",
              " 'strip',\n",
              " 'swapcase',\n",
              " 'title',\n",
              " 'translate',\n",
              " 'upper',\n",
              " 'zfill']"
            ]
          },
          "metadata": {},
          "execution_count": 12
        }
      ]
    },
    {
      "cell_type": "code",
      "source": [
        "str1='Welcome to Data Science'\n",
        "str1.capitalize()"
      ],
      "metadata": {
        "colab": {
          "base_uri": "https://localhost:8080/",
          "height": 35
        },
        "id": "ywkKrPy0i6L3",
        "outputId": "30eb4488-985e-4f1e-a200-cb4e7b43494e"
      },
      "execution_count": null,
      "outputs": [
        {
          "output_type": "execute_result",
          "data": {
            "text/plain": [
              "'Welcome to data science'"
            ],
            "application/vnd.google.colaboratory.intrinsic+json": {
              "type": "string"
            }
          },
          "metadata": {},
          "execution_count": 14
        }
      ]
    },
    {
      "cell_type": "code",
      "source": [
        "str1.upper()"
      ],
      "metadata": {
        "colab": {
          "base_uri": "https://localhost:8080/",
          "height": 35
        },
        "id": "0NLZtdDCkpqR",
        "outputId": "b173731e-4a39-4d51-c538-603dd8142c31"
      },
      "execution_count": null,
      "outputs": [
        {
          "output_type": "execute_result",
          "data": {
            "text/plain": [
              "'WELCOME TO DATA SCIENCE'"
            ],
            "application/vnd.google.colaboratory.intrinsic+json": {
              "type": "string"
            }
          },
          "metadata": {},
          "execution_count": 15
        }
      ]
    },
    {
      "cell_type": "code",
      "source": [
        "str1.lower()"
      ],
      "metadata": {
        "colab": {
          "base_uri": "https://localhost:8080/",
          "height": 35
        },
        "id": "UfVAV1DSksGG",
        "outputId": "85350e81-206a-4391-f824-9fb6e74faa1f"
      },
      "execution_count": null,
      "outputs": [
        {
          "output_type": "execute_result",
          "data": {
            "text/plain": [
              "'welcome to data science'"
            ],
            "application/vnd.google.colaboratory.intrinsic+json": {
              "type": "string"
            }
          },
          "metadata": {},
          "execution_count": 16
        }
      ]
    },
    {
      "cell_type": "code",
      "source": [
        "str1.title()"
      ],
      "metadata": {
        "colab": {
          "base_uri": "https://localhost:8080/",
          "height": 35
        },
        "id": "aqBhT9hZkuC1",
        "outputId": "8e9063bf-e5b9-43ff-bea0-324f02a4d1d0"
      },
      "execution_count": null,
      "outputs": [
        {
          "output_type": "execute_result",
          "data": {
            "text/plain": [
              "'Welcome To Data Science'"
            ],
            "application/vnd.google.colaboratory.intrinsic+json": {
              "type": "string"
            }
          },
          "metadata": {},
          "execution_count": 17
        }
      ]
    },
    {
      "cell_type": "code",
      "source": [
        "food='BriYaNI'\n",
        "name='GAneSH'\n",
        "print(food.swapcase())\n",
        "name.swapcase()"
      ],
      "metadata": {
        "colab": {
          "base_uri": "https://localhost:8080/",
          "height": 53
        },
        "id": "rkEBTaRllC9m",
        "outputId": "70ab1fa2-f815-41e2-a4a7-ebdb4bf4e182"
      },
      "execution_count": null,
      "outputs": [
        {
          "output_type": "stream",
          "name": "stdout",
          "text": [
            "bRIyAni\n"
          ]
        },
        {
          "output_type": "execute_result",
          "data": {
            "text/plain": [
              "'gaNEsh'"
            ],
            "application/vnd.google.colaboratory.intrinsic+json": {
              "type": "string"
            }
          },
          "metadata": {},
          "execution_count": 18
        }
      ]
    },
    {
      "cell_type": "code",
      "source": [
        "s1='My name is Ganesh'\n",
        "print(s1.split())"
      ],
      "metadata": {
        "colab": {
          "base_uri": "https://localhost:8080/"
        },
        "id": "7f5R9ZBSkwL9",
        "outputId": "19d37603-abdd-4336-9090-cffdd9e363fd"
      },
      "execution_count": null,
      "outputs": [
        {
          "output_type": "stream",
          "name": "stdout",
          "text": [
            "['My', 'name', 'is', 'Ganesh']\n"
          ]
        }
      ]
    },
    {
      "cell_type": "code",
      "source": [
        "s2='Mumbai-Pune-Mumbai'\n",
        "s2.split('-')"
      ],
      "metadata": {
        "colab": {
          "base_uri": "https://localhost:8080/"
        },
        "id": "3RL_2ouTmVVR",
        "outputId": "61fb1cbd-ac1f-450b-b460-01a51f87f993"
      },
      "execution_count": null,
      "outputs": [
        {
          "output_type": "execute_result",
          "data": {
            "text/plain": [
              "['Mumbai', 'Pune', 'Mumbai']"
            ]
          },
          "metadata": {},
          "execution_count": 20
        }
      ]
    },
    {
      "cell_type": "code",
      "source": [
        "mail='ganeshbore@gmail.com'\n",
        "mail.split('@')"
      ],
      "metadata": {
        "colab": {
          "base_uri": "https://localhost:8080/"
        },
        "id": "ysMenufMmsg3",
        "outputId": "92cd96d5-d06d-4da8-fea5-320d21f60fd6"
      },
      "execution_count": null,
      "outputs": [
        {
          "output_type": "execute_result",
          "data": {
            "text/plain": [
              "['ganeshbore', 'gmail.com']"
            ]
          },
          "metadata": {},
          "execution_count": 21
        }
      ]
    },
    {
      "cell_type": "code",
      "source": [
        "s1='My name is Rio'\n",
        "s1.replace('Rio','Helsinki')"
      ],
      "metadata": {
        "colab": {
          "base_uri": "https://localhost:8080/",
          "height": 35
        },
        "id": "4EaWRdyonMt4",
        "outputId": "26548f80-b12f-4ff0-e3b6-806c65bb6d79"
      },
      "execution_count": null,
      "outputs": [
        {
          "output_type": "execute_result",
          "data": {
            "text/plain": [
              "'My name is Helsinki'"
            ],
            "application/vnd.google.colaboratory.intrinsic+json": {
              "type": "string"
            }
          },
          "metadata": {},
          "execution_count": 22
        }
      ]
    },
    {
      "cell_type": "code",
      "source": [
        "#single line comment\n",
        "''' multilime command '''"
      ],
      "metadata": {
        "id": "objq7oLeoPD4"
      },
      "execution_count": null,
      "outputs": []
    },
    {
      "cell_type": "code",
      "source": [
        "city=\"Ahmadnagar\"\n",
        "city.count('A')"
      ],
      "metadata": {
        "colab": {
          "base_uri": "https://localhost:8080/"
        },
        "id": "Foil4I1toOBf",
        "outputId": "57c9d4c1-ad86-4af6-f3be-9431c57f35ba"
      },
      "execution_count": null,
      "outputs": [
        {
          "output_type": "execute_result",
          "data": {
            "text/plain": [
              "1"
            ]
          },
          "metadata": {},
          "execution_count": 25
        }
      ]
    },
    {
      "cell_type": "code",
      "source": [
        "'Ahmadnagar'.count('a')"
      ],
      "metadata": {
        "colab": {
          "base_uri": "https://localhost:8080/"
        },
        "id": "YSmTRLpcpHFw",
        "outputId": "de7bd50a-498a-4a83-f755-b940ca9ffd76"
      },
      "execution_count": null,
      "outputs": [
        {
          "output_type": "execute_result",
          "data": {
            "text/plain": [
              "3"
            ]
          },
          "metadata": {},
          "execution_count": 26
        }
      ]
    },
    {
      "cell_type": "code",
      "source": [
        "name='Raj'\n",
        "name*4"
      ],
      "metadata": {
        "colab": {
          "base_uri": "https://localhost:8080/",
          "height": 35
        },
        "id": "M6BqcotgqGg7",
        "outputId": "549ffa28-3c50-472a-a1d7-433c226d1d28"
      },
      "execution_count": null,
      "outputs": [
        {
          "output_type": "execute_result",
          "data": {
            "text/plain": [
              "'RajRajRajRaj'"
            ],
            "application/vnd.google.colaboratory.intrinsic+json": {
              "type": "string"
            }
          },
          "metadata": {},
          "execution_count": 27
        }
      ]
    },
    {
      "cell_type": "code",
      "source": [
        "n1=5\n",
        "n1*5"
      ],
      "metadata": {
        "colab": {
          "base_uri": "https://localhost:8080/"
        },
        "id": "NC63ecc-qdmq",
        "outputId": "454bb40c-3d3d-41d6-d277-1e6f44e30be9"
      },
      "execution_count": null,
      "outputs": [
        {
          "output_type": "execute_result",
          "data": {
            "text/plain": [
              "25"
            ]
          },
          "metadata": {},
          "execution_count": 28
        }
      ]
    },
    {
      "cell_type": "code",
      "source": [
        "name='Pranav'\n",
        "surname='Kolekar'\n",
        "name+' '+surname"
      ],
      "metadata": {
        "colab": {
          "base_uri": "https://localhost:8080/",
          "height": 35
        },
        "id": "Xyexztl5qu0w",
        "outputId": "616b5196-dcd6-455a-cee9-7115b7fdf319"
      },
      "execution_count": null,
      "outputs": [
        {
          "output_type": "execute_result",
          "data": {
            "text/plain": [
              "'Pranav Kolekar'"
            ],
            "application/vnd.google.colaboratory.intrinsic+json": {
              "type": "string"
            }
          },
          "metadata": {},
          "execution_count": 29
        }
      ]
    },
    {
      "cell_type": "code",
      "source": [
        "#Conditional Statements\n",
        "a=30\n",
        "b=20\n",
        "if(a>b):\n",
        "  print(\"a is greater\")\n",
        "else:\n",
        "  print(\"b is greater\")"
      ],
      "metadata": {
        "id": "pXHiiYDAq-SN",
        "colab": {
          "base_uri": "https://localhost:8080/"
        },
        "outputId": "584f1396-3ca7-4504-e3f2-0afc3e3e65a2"
      },
      "execution_count": null,
      "outputs": [
        {
          "output_type": "stream",
          "name": "stdout",
          "text": [
            "a is greater\n"
          ]
        }
      ]
    },
    {
      "cell_type": "code",
      "source": [
        "a=30\n",
        "b=20\n",
        "if(a>b):\n",
        "  print(\"a is greater\")\n",
        "  print(\"In TRUE block\")\n",
        "  c=a*b\n",
        "  print(c)\n",
        "else:\n",
        "  print(\"b is greater\")\n",
        "  print(\"In FALSE block\")\n"
      ],
      "metadata": {
        "colab": {
          "base_uri": "https://localhost:8080/"
        },
        "id": "SAGfPKLksQ4J",
        "outputId": "e23c5eb7-56b2-47d4-dca1-d5e24adcd823"
      },
      "execution_count": null,
      "outputs": [
        {
          "output_type": "stream",
          "name": "stdout",
          "text": [
            "a is greater\n",
            "In TRUE block\n",
            "600\n"
          ]
        }
      ]
    },
    {
      "cell_type": "code",
      "source": [
        "a=int(input('Enter first number :'))  # To take the input from user\n",
        "b=int(input(\"Enter second number :\"))\n",
        "if(a>b):\n",
        "  print(a, \" is greater\")\n",
        "else:\n",
        "  print(b, \" is greater\")            #To show the number in output"
      ],
      "metadata": {
        "colab": {
          "base_uri": "https://localhost:8080/"
        },
        "id": "Si1MQqMovqxP",
        "outputId": "a4b8e090-f8c0-4023-9f0d-2d4fbb779296"
      },
      "execution_count": null,
      "outputs": [
        {
          "output_type": "stream",
          "name": "stdout",
          "text": [
            "Enter first number :20\n",
            "Enter second number :30\n",
            "30  is greater\n"
          ]
        }
      ]
    },
    {
      "cell_type": "code",
      "source": [
        "salary=int(input(\"Enter your salary : \"))\n",
        "if (salary>20000):\n",
        "  tax=0.25\n",
        "  print(\"You are eligible for\",tax,\"%tax\")\n",
        "  net_sal=salary-tax*salary\n",
        "  print(\"Your net salary is\",net_sal)\n",
        "else:\n",
        "  tax=0.20\n",
        "  print(\"You are eligible for\",tax,\"%tax\")\n",
        "  net_sal=salary-tax*salary\n",
        "  print(\"Your net salary is\",net_sal)\n",
        "print(\"Thank you for using my program!\")\n"
      ],
      "metadata": {
        "colab": {
          "base_uri": "https://localhost:8080/"
        },
        "id": "kpAmt9sRwAzN",
        "outputId": "64df59c4-8bf5-4d11-bf65-710a06a03328"
      },
      "execution_count": null,
      "outputs": [
        {
          "output_type": "stream",
          "name": "stdout",
          "text": [
            "Enter your salary : 15000\n",
            "You are eligible for 0.2 %tax\n",
            "Your net salary is 12000.0\n",
            "Thank you for using my program!\n"
          ]
        }
      ]
    },
    {
      "cell_type": "code",
      "source": [
        "range(1,10)"
      ],
      "metadata": {
        "colab": {
          "base_uri": "https://localhost:8080/"
        },
        "id": "yexpB9Otzx3p",
        "outputId": "979d1a50-d882-4703-b0e8-ab469152e199"
      },
      "execution_count": null,
      "outputs": [
        {
          "output_type": "execute_result",
          "data": {
            "text/plain": [
              "range(1, 10)"
            ]
          },
          "metadata": {},
          "execution_count": 7
        }
      ]
    },
    {
      "cell_type": "code",
      "source": [
        "#For Loop\n",
        "for number in range(2,10,2):\n",
        "  print(number)\n",
        "  print(\"Bye\")"
      ],
      "metadata": {
        "colab": {
          "base_uri": "https://localhost:8080/"
        },
        "id": "KjyI9bPJ0lzs",
        "outputId": "041ca6d7-d530-4c0e-f7fc-059d42174b45"
      },
      "execution_count": null,
      "outputs": [
        {
          "output_type": "stream",
          "name": "stdout",
          "text": [
            "2\n",
            "Bye\n",
            "4\n",
            "Bye\n",
            "6\n",
            "Bye\n",
            "8\n",
            "Bye\n"
          ]
        }
      ]
    },
    {
      "cell_type": "code",
      "source": [
        "#To print odd numbers from 1 to 20\n",
        "for i in range(1,21,2):\n",
        "  print(i)"
      ],
      "metadata": {
        "colab": {
          "base_uri": "https://localhost:8080/"
        },
        "id": "lyJkwQv91AM5",
        "outputId": "b0790d92-05d6-41eb-b7b8-f5779b98a246"
      },
      "execution_count": null,
      "outputs": [
        {
          "output_type": "stream",
          "name": "stdout",
          "text": [
            "1\n",
            "3\n",
            "5\n",
            "7\n",
            "9\n",
            "11\n",
            "13\n",
            "15\n",
            "17\n",
            "19\n"
          ]
        }
      ]
    },
    {
      "cell_type": "code",
      "source": [
        "#To print even numbers from 1 to 20\n",
        "for i in range (2,21,2):   #range(start value, end value, increment)\n",
        "  print(i)"
      ],
      "metadata": {
        "colab": {
          "base_uri": "https://localhost:8080/"
        },
        "id": "-YCdgbtZ8A2I",
        "outputId": "4b2d5571-bd6d-4ff6-9b1b-58bbe0e6e1c5"
      },
      "execution_count": null,
      "outputs": [
        {
          "output_type": "stream",
          "name": "stdout",
          "text": [
            "2\n",
            "4\n",
            "6\n",
            "8\n",
            "10\n",
            "12\n",
            "14\n",
            "16\n",
            "18\n",
            "20\n"
          ]
        }
      ]
    },
    {
      "cell_type": "code",
      "source": [
        "for i in range(2,21):\n",
        "  if i%2==0:\n",
        "    print(i)"
      ],
      "metadata": {
        "id": "BtQoM1y68L13",
        "colab": {
          "base_uri": "https://localhost:8080/"
        },
        "outputId": "16abfc1f-aa2a-47fb-d496-b7ff7932e9d2"
      },
      "execution_count": null,
      "outputs": [
        {
          "output_type": "stream",
          "name": "stdout",
          "text": [
            "2\n",
            "4\n",
            "6\n",
            "8\n",
            "10\n",
            "12\n",
            "14\n",
            "16\n",
            "18\n",
            "20\n"
          ]
        }
      ]
    },
    {
      "cell_type": "code",
      "source": [
        "for i in range(1,21):\n",
        "  if (i%2!=0):\n",
        "    print(i)"
      ],
      "metadata": {
        "colab": {
          "base_uri": "https://localhost:8080/"
        },
        "id": "w3oKVTfivGKv",
        "outputId": "11edbbb0-59ec-40ec-8187-c9dda7ad1acb"
      },
      "execution_count": null,
      "outputs": [
        {
          "output_type": "stream",
          "name": "stdout",
          "text": [
            "1\n",
            "3\n",
            "5\n",
            "7\n",
            "9\n",
            "11\n",
            "13\n",
            "15\n",
            "17\n",
            "19\n"
          ]
        }
      ]
    },
    {
      "cell_type": "code",
      "source": [
        "print(\"Even numbers are:\")\n",
        "for i in range(1,21):\n",
        "  if i%2==0:\n",
        "    print(i)\n",
        "\n",
        "print(\"Odd numbers are:\")\n",
        "for i in range(1,21):\n",
        "  if (i%2!=0):\n",
        "    print(i)"
      ],
      "metadata": {
        "colab": {
          "base_uri": "https://localhost:8080/"
        },
        "id": "0dGWAjJeCqbc",
        "outputId": "9dc8df41-1052-46cb-d25a-235302e5b3ef"
      },
      "execution_count": null,
      "outputs": [
        {
          "output_type": "stream",
          "name": "stdout",
          "text": [
            "Even numbers are:\n",
            "2\n",
            "4\n",
            "6\n",
            "8\n",
            "10\n",
            "12\n",
            "14\n",
            "16\n",
            "18\n",
            "20\n",
            "Odd numbers are:\n",
            "1\n",
            "3\n",
            "5\n",
            "7\n",
            "9\n",
            "11\n",
            "13\n",
            "15\n",
            "17\n",
            "19\n"
          ]
        }
      ]
    },
    {
      "cell_type": "code",
      "source": [],
      "metadata": {
        "id": "hA9yMv0cC-wE"
      },
      "execution_count": null,
      "outputs": []
    },
    {
      "cell_type": "code",
      "source": [
        "#To print the number and it's square\n",
        "for i in range(1,11):\n",
        "  print(i,i*i)"
      ],
      "metadata": {
        "colab": {
          "base_uri": "https://localhost:8080/"
        },
        "id": "UzIEw3eAxIdY",
        "outputId": "d50fdce4-5145-40b2-e084-87ed33696b17"
      },
      "execution_count": null,
      "outputs": [
        {
          "output_type": "stream",
          "name": "stdout",
          "text": [
            "1 1\n",
            "2 4\n",
            "3 9\n",
            "4 16\n",
            "5 25\n",
            "6 36\n",
            "7 49\n",
            "8 64\n",
            "9 81\n",
            "10 100\n"
          ]
        }
      ]
    },
    {
      "cell_type": "code",
      "source": [
        "subject=\"Science\"\n",
        "for letter in subject:\n",
        "  print(letter)"
      ],
      "metadata": {
        "colab": {
          "base_uri": "https://localhost:8080/"
        },
        "id": "g-CYqsoRxYRv",
        "outputId": "7cbafba4-9cf5-48fe-d640-d3b1552d8bbe"
      },
      "execution_count": null,
      "outputs": [
        {
          "output_type": "stream",
          "name": "stdout",
          "text": [
            "S\n",
            "c\n",
            "i\n",
            "e\n",
            "n\n",
            "c\n",
            "e\n"
          ]
        }
      ]
    },
    {
      "cell_type": "code",
      "source": [
        "for i in range(1,6):\n",
        "  print(\"*\"*i)"
      ],
      "metadata": {
        "colab": {
          "base_uri": "https://localhost:8080/"
        },
        "id": "SpIrp_1RzUaF",
        "outputId": "aa52fb3f-9ebe-49d3-8536-3c3888f8769e"
      },
      "execution_count": null,
      "outputs": [
        {
          "output_type": "stream",
          "name": "stdout",
          "text": [
            "*\n",
            "**\n",
            "***\n",
            "****\n",
            "*****\n"
          ]
        }
      ]
    },
    {
      "cell_type": "code",
      "source": [
        "for i in range(6,0,-1):\n",
        "  print(\"*\"*i)"
      ],
      "metadata": {
        "colab": {
          "base_uri": "https://localhost:8080/"
        },
        "id": "7AJh1X3T0D81",
        "outputId": "4c3cb7c4-ee23-4fd4-b9fa-40c94de43879"
      },
      "execution_count": null,
      "outputs": [
        {
          "output_type": "stream",
          "name": "stdout",
          "text": [
            "******\n",
            "*****\n",
            "****\n",
            "***\n",
            "**\n",
            "*\n"
          ]
        }
      ]
    },
    {
      "cell_type": "code",
      "source": [
        "movie=\"Drishyam\"\n",
        "for letter in movie:\n",
        "  print(letter.swapcase(),end=\" \") "
      ],
      "metadata": {
        "colab": {
          "base_uri": "https://localhost:8080/"
        },
        "id": "y2U6_dmw14eT",
        "outputId": "8881d47b-bebc-42fa-840d-73ec5ce1e80e"
      },
      "execution_count": null,
      "outputs": [
        {
          "output_type": "stream",
          "name": "stdout",
          "text": [
            "d R I S H Y A M "
          ]
        }
      ]
    },
    {
      "cell_type": "code",
      "source": [
        "for letter in \"Data Science\":\n",
        "  print(letter*4,end=\" \")"
      ],
      "metadata": {
        "colab": {
          "base_uri": "https://localhost:8080/"
        },
        "id": "-xnz8nEB4MxO",
        "outputId": "21c64ded-2418-47f3-bafa-1ae464aa283c"
      },
      "execution_count": null,
      "outputs": [
        {
          "output_type": "stream",
          "name": "stdout",
          "text": [
            "DDDD aaaa tttt aaaa      SSSS cccc iiii eeee nnnn cccc eeee "
          ]
        }
      ]
    },
    {
      "cell_type": "code",
      "source": [
        "len(\"My Name\")"
      ],
      "metadata": {
        "colab": {
          "base_uri": "https://localhost:8080/"
        },
        "id": "lEEJw7NJ3Jjw",
        "outputId": "a293f192-c11e-42c1-8697-072f6bc5ff42"
      },
      "execution_count": null,
      "outputs": [
        {
          "output_type": "execute_result",
          "data": {
            "text/plain": [
              "7"
            ]
          },
          "metadata": {},
          "execution_count": 31
        }
      ]
    },
    {
      "cell_type": "code",
      "source": [
        "#Data Strucures in Py\n",
        "#1. List - Mutable, ordered, allows duplicates\n",
        "#created using []\n",
        "marks=[40,50,60,70,80,90]\n",
        "marks"
      ],
      "metadata": {
        "id": "iLZjp3aUHqL2"
      },
      "execution_count": null,
      "outputs": []
    },
    {
      "cell_type": "code",
      "source": [
        "dir(list)"
      ],
      "metadata": {
        "colab": {
          "base_uri": "https://localhost:8080/"
        },
        "id": "sPJ3DiQ46fIF",
        "outputId": "2969c468-f175-4d05-cb8b-f63c7a41da68"
      },
      "execution_count": null,
      "outputs": [
        {
          "output_type": "execute_result",
          "data": {
            "text/plain": [
              "['__add__',\n",
              " '__class__',\n",
              " '__contains__',\n",
              " '__delattr__',\n",
              " '__delitem__',\n",
              " '__dir__',\n",
              " '__doc__',\n",
              " '__eq__',\n",
              " '__format__',\n",
              " '__ge__',\n",
              " '__getattribute__',\n",
              " '__getitem__',\n",
              " '__gt__',\n",
              " '__hash__',\n",
              " '__iadd__',\n",
              " '__imul__',\n",
              " '__init__',\n",
              " '__init_subclass__',\n",
              " '__iter__',\n",
              " '__le__',\n",
              " '__len__',\n",
              " '__lt__',\n",
              " '__mul__',\n",
              " '__ne__',\n",
              " '__new__',\n",
              " '__reduce__',\n",
              " '__reduce_ex__',\n",
              " '__repr__',\n",
              " '__reversed__',\n",
              " '__rmul__',\n",
              " '__setattr__',\n",
              " '__setitem__',\n",
              " '__sizeof__',\n",
              " '__str__',\n",
              " '__subclasshook__',\n",
              " 'append',\n",
              " 'clear',\n",
              " 'copy',\n",
              " 'count',\n",
              " 'extend',\n",
              " 'index',\n",
              " 'insert',\n",
              " 'pop',\n",
              " 'remove',\n",
              " 'reverse',\n",
              " 'sort']"
            ]
          },
          "metadata": {},
          "execution_count": 2
        }
      ]
    },
    {
      "cell_type": "code",
      "source": [
        "type(marks)"
      ],
      "metadata": {
        "colab": {
          "base_uri": "https://localhost:8080/"
        },
        "id": "f_1VXbzu6lG4",
        "outputId": "0c111300-a71f-4994-8a55-483c425f61fa"
      },
      "execution_count": null,
      "outputs": [
        {
          "output_type": "execute_result",
          "data": {
            "text/plain": [
              "list"
            ]
          },
          "metadata": {},
          "execution_count": 3
        }
      ]
    },
    {
      "cell_type": "code",
      "source": [
        "len(marks)"
      ],
      "metadata": {
        "colab": {
          "base_uri": "https://localhost:8080/"
        },
        "id": "rq4PyKjh6r6x",
        "outputId": "fceffec0-9cf9-4e4d-a02a-491d99f5aa50"
      },
      "execution_count": null,
      "outputs": [
        {
          "output_type": "execute_result",
          "data": {
            "text/plain": [
              "6"
            ]
          },
          "metadata": {},
          "execution_count": 4
        }
      ]
    },
    {
      "cell_type": "code",
      "source": [
        "sorted_marks=sorted(marks)\n",
        "sorted_marks"
      ],
      "metadata": {
        "colab": {
          "base_uri": "https://localhost:8080/"
        },
        "id": "H43CFkHJ6yTt",
        "outputId": "3eb22f7c-8e69-4225-940f-15d5e79a3259"
      },
      "execution_count": null,
      "outputs": [
        {
          "output_type": "execute_result",
          "data": {
            "text/plain": [
              "[40, 50, 60, 70, 80, 90]"
            ]
          },
          "metadata": {},
          "execution_count": 5
        }
      ]
    },
    {
      "cell_type": "code",
      "source": [
        "marks.append(35)"
      ],
      "metadata": {
        "id": "juawhOcL7KCE"
      },
      "execution_count": null,
      "outputs": []
    },
    {
      "cell_type": "code",
      "source": [
        "marks.reverse()\n",
        "marks"
      ],
      "metadata": {
        "colab": {
          "base_uri": "https://localhost:8080/"
        },
        "id": "com5KUlb71Oa",
        "outputId": "862d9e09-e62c-4c27-eb15-0f12e58d7a0f"
      },
      "execution_count": null,
      "outputs": [
        {
          "output_type": "execute_result",
          "data": {
            "text/plain": [
              "[35, 90, 80, 70, 60, 50, 40]"
            ]
          },
          "metadata": {},
          "execution_count": 10
        }
      ]
    },
    {
      "cell_type": "code",
      "source": [
        "marks2=[20,35,40,55,67,98]"
      ],
      "metadata": {
        "id": "8eCDmZmI8cUL"
      },
      "execution_count": null,
      "outputs": []
    },
    {
      "cell_type": "code",
      "source": [
        "marks2.sort(reverse=True)\n",
        "marks2"
      ],
      "metadata": {
        "colab": {
          "base_uri": "https://localhost:8080/"
        },
        "id": "gRpwovSO8_x-",
        "outputId": "933b7b83-2780-49bc-9311-c1f17f95ec9f"
      },
      "execution_count": null,
      "outputs": [
        {
          "output_type": "execute_result",
          "data": {
            "text/plain": [
              "[98, 67, 55, 40, 35, 20]"
            ]
          },
          "metadata": {},
          "execution_count": 12
        }
      ]
    },
    {
      "cell_type": "code",
      "source": [
        "40 in marks2"
      ],
      "metadata": {
        "colab": {
          "base_uri": "https://localhost:8080/"
        },
        "id": "pT9xPkFI9cFk",
        "outputId": "df7d15f4-ef27-4f02-fb2c-dbb8bfa01b36"
      },
      "execution_count": null,
      "outputs": [
        {
          "output_type": "execute_result",
          "data": {
            "text/plain": [
              "True"
            ]
          },
          "metadata": {},
          "execution_count": 13
        }
      ]
    },
    {
      "cell_type": "code",
      "source": [
        "60 in marks2"
      ],
      "metadata": {
        "colab": {
          "base_uri": "https://localhost:8080/"
        },
        "id": "A58MVbYs-6bo",
        "outputId": "dfbf921e-344c-4b2d-861c-36dfe5a155e3"
      },
      "execution_count": null,
      "outputs": [
        {
          "output_type": "execute_result",
          "data": {
            "text/plain": [
              "False"
            ]
          },
          "metadata": {},
          "execution_count": 14
        }
      ]
    },
    {
      "cell_type": "code",
      "source": [
        "list1=[20,50,64]\n",
        "list2=[80,75,62]"
      ],
      "metadata": {
        "id": "axhtGuk2_K1f"
      },
      "execution_count": null,
      "outputs": []
    },
    {
      "cell_type": "code",
      "source": [
        "list1+list2  #To concatenate 2 lists"
      ],
      "metadata": {
        "colab": {
          "base_uri": "https://localhost:8080/"
        },
        "id": "ZQgmqxU7_oiS",
        "outputId": "7ae313ad-f69a-4dda-e001-44a88b7824d8"
      },
      "execution_count": null,
      "outputs": [
        {
          "output_type": "execute_result",
          "data": {
            "text/plain": [
              "[20, 50, 64, 80, 75, 62]"
            ]
          },
          "metadata": {},
          "execution_count": 16
        }
      ]
    },
    {
      "cell_type": "code",
      "source": [
        "(list1+list2)*3"
      ],
      "metadata": {
        "colab": {
          "base_uri": "https://localhost:8080/"
        },
        "id": "sNcNo6l3_sis",
        "outputId": "75f582ae-f759-4d3e-a8cd-3b6f2dd7b2b0"
      },
      "execution_count": null,
      "outputs": [
        {
          "output_type": "execute_result",
          "data": {
            "text/plain": [
              "[20, 50, 64, 80, 75, 62, 20, 50, 64, 80, 75, 62, 20, 50, 64, 80, 75, 62]"
            ]
          },
          "metadata": {},
          "execution_count": 17
        }
      ]
    },
    {
      "cell_type": "code",
      "source": [
        "#List of Strings\n",
        "list3=[\"Mango\",\"Apple\",\"Banana\",\"Pineapple\",\"Custard Apple\",\"Strawberry\"]\n",
        "list3"
      ],
      "metadata": {
        "colab": {
          "base_uri": "https://localhost:8080/"
        },
        "id": "SNT5AaWh_4bz",
        "outputId": "19375c8f-bf00-4cdb-f793-c6e2650de727"
      },
      "execution_count": null,
      "outputs": [
        {
          "output_type": "execute_result",
          "data": {
            "text/plain": [
              "['Mango', 'Apple', 'Banana', 'Pineapple', 'Custard Apple', 'Strawberry']"
            ]
          },
          "metadata": {},
          "execution_count": 2
        }
      ]
    },
    {
      "cell_type": "code",
      "source": [
        "for fruit in list3:\n",
        "  print(fruit.upper(),end=\" \")  #To show all names in capital"
      ],
      "metadata": {
        "colab": {
          "base_uri": "https://localhost:8080/"
        },
        "id": "RQBW5UgfAfGl",
        "outputId": "a4cd8a6c-edb7-44b1-a3d3-4f4a9ae535e3"
      },
      "execution_count": null,
      "outputs": [
        {
          "output_type": "stream",
          "name": "stdout",
          "text": [
            "MANGO APPLE BANANA PINEAPPLE CUSTARD APPLE STRAWBERRY "
          ]
        }
      ]
    },
    {
      "cell_type": "code",
      "source": [
        "for fruit in list3:\n",
        "  print(fruit.replace(\"a\",\"u\"),end=\" \")"
      ],
      "metadata": {
        "colab": {
          "base_uri": "https://localhost:8080/"
        },
        "id": "OVTNrs-iA4zU",
        "outputId": "b4962bd8-b68b-4f99-9a19-f6f7e5544f23"
      },
      "execution_count": null,
      "outputs": [
        {
          "output_type": "stream",
          "name": "stdout",
          "text": [
            "Mungo Apple Bununu Pineupple Custurd Apple Struwberry "
          ]
        }
      ]
    },
    {
      "cell_type": "code",
      "source": [
        "list3.count(\"Banana\")"
      ],
      "metadata": {
        "colab": {
          "base_uri": "https://localhost:8080/"
        },
        "id": "iu_CerlmC8mg",
        "outputId": "b6410ad8-d136-411b-8ef8-c227bbbacf75"
      },
      "execution_count": null,
      "outputs": [
        {
          "output_type": "execute_result",
          "data": {
            "text/plain": [
              "1"
            ]
          },
          "metadata": {},
          "execution_count": 27
        }
      ]
    },
    {
      "cell_type": "code",
      "source": [
        "list3[3]"
      ],
      "metadata": {
        "colab": {
          "base_uri": "https://localhost:8080/",
          "height": 35
        },
        "id": "OOaCo44ZE2ku",
        "outputId": "1143bc77-f945-4078-8c05-44831cf98d63"
      },
      "execution_count": null,
      "outputs": [
        {
          "output_type": "execute_result",
          "data": {
            "text/plain": [
              "'Pineapple'"
            ],
            "application/vnd.google.colaboratory.intrinsic+json": {
              "type": "string"
            }
          },
          "metadata": {},
          "execution_count": 29
        }
      ]
    },
    {
      "cell_type": "code",
      "source": [
        "list3[6]  #Gives u error as u have only 0 to 5 index values"
      ],
      "metadata": {
        "id": "SB8TX7wrFWWv"
      },
      "execution_count": null,
      "outputs": []
    },
    {
      "cell_type": "code",
      "source": [
        "#Slicing\n",
        "list3[0:3]"
      ],
      "metadata": {
        "colab": {
          "base_uri": "https://localhost:8080/"
        },
        "id": "vyV3V9hBFtmd",
        "outputId": "43fd345f-1d38-4b85-aad8-4487f0ae29f4"
      },
      "execution_count": null,
      "outputs": [
        {
          "output_type": "execute_result",
          "data": {
            "text/plain": [
              "['Mango', 'Apple', 'Banana']"
            ]
          },
          "metadata": {},
          "execution_count": 31
        }
      ]
    },
    {
      "cell_type": "code",
      "source": [
        "list3[1:]  #From 1 index no. to all values"
      ],
      "metadata": {
        "colab": {
          "base_uri": "https://localhost:8080/"
        },
        "id": "WTcfMvrIFzac",
        "outputId": "c2c0759e-ae19-4473-db08-2fa7f638dd26"
      },
      "execution_count": null,
      "outputs": [
        {
          "output_type": "execute_result",
          "data": {
            "text/plain": [
              "['Apple', 'Banana', 'Pineapple', 'Custard Apple', 'Strawberry']"
            ]
          },
          "metadata": {},
          "execution_count": 33
        }
      ]
    },
    {
      "cell_type": "code",
      "source": [
        "list3[:4]  #from starting upto indexx no. 3"
      ],
      "metadata": {
        "colab": {
          "base_uri": "https://localhost:8080/"
        },
        "id": "moIdlNjzGEkl",
        "outputId": "82e57e85-a28f-402e-e642-5b267c245520"
      },
      "execution_count": null,
      "outputs": [
        {
          "output_type": "execute_result",
          "data": {
            "text/plain": [
              "['Mango', 'Apple', 'Banana', 'Pineapple']"
            ]
          },
          "metadata": {},
          "execution_count": 34
        }
      ]
    },
    {
      "cell_type": "code",
      "source": [
        "list3[::2]  #2 is like step incerement to get values on index no. 0,2,4,6"
      ],
      "metadata": {
        "colab": {
          "base_uri": "https://localhost:8080/"
        },
        "id": "n1s-qYfzGqVG",
        "outputId": "0e6413e6-e7a1-41ab-9c98-8ad88b2bdbcf"
      },
      "execution_count": null,
      "outputs": [
        {
          "output_type": "execute_result",
          "data": {
            "text/plain": [
              "['Mango', 'Banana', 'Custard Apple']"
            ]
          },
          "metadata": {},
          "execution_count": 35
        }
      ]
    },
    {
      "cell_type": "code",
      "source": [
        "n1=list(range(1,10))\n",
        "print(n1,end=\" \")"
      ],
      "metadata": {
        "colab": {
          "base_uri": "https://localhost:8080/"
        },
        "id": "AIR-QxT1HjOJ",
        "outputId": "907efc00-c132-4a0b-d3c7-d72f1cfb2480"
      },
      "execution_count": null,
      "outputs": [
        {
          "output_type": "stream",
          "name": "stdout",
          "text": [
            "[1, 2, 3, 4, 5, 6, 7, 8, 9] "
          ]
        }
      ]
    },
    {
      "cell_type": "code",
      "source": [
        "n1[::4]  #4 is to get index no. values "
      ],
      "metadata": {
        "colab": {
          "base_uri": "https://localhost:8080/"
        },
        "id": "rnkcMiCBIF3Y",
        "outputId": "452a9768-2808-41b1-b5fa-7f394fe7a296"
      },
      "execution_count": null,
      "outputs": [
        {
          "output_type": "execute_result",
          "data": {
            "text/plain": [
              "[1, 5, 9]"
            ]
          },
          "metadata": {},
          "execution_count": 39
        }
      ]
    },
    {
      "cell_type": "code",
      "source": [
        "#use of 'in' keyword\n",
        "'the' in \"Netherland\""
      ],
      "metadata": {
        "colab": {
          "base_uri": "https://localhost:8080/"
        },
        "id": "X2XwmDmOJB00",
        "outputId": "c64f74d0-5baa-450b-c622-d4263b6e63ae"
      },
      "execution_count": null,
      "outputs": [
        {
          "output_type": "execute_result",
          "data": {
            "text/plain": [
              "True"
            ]
          },
          "metadata": {},
          "execution_count": 40
        }
      ]
    },
    {
      "cell_type": "code",
      "source": [
        "\"The\" in \"Netherland\""
      ],
      "metadata": {
        "colab": {
          "base_uri": "https://localhost:8080/"
        },
        "id": "Ej7s-7BVKdJR",
        "outputId": "51b79545-24bb-4aab-d1de-289cfcfd77c3"
      },
      "execution_count": null,
      "outputs": [
        {
          "output_type": "execute_result",
          "data": {
            "text/plain": [
              "False"
            ]
          },
          "metadata": {},
          "execution_count": 41
        }
      ]
    },
    {
      "cell_type": "code",
      "source": [
        "list3.append('Mulberry')\n",
        "print(list3, end=\" \")"
      ],
      "metadata": {
        "id": "pzV_lJyTKsZ-",
        "colab": {
          "base_uri": "https://localhost:8080/"
        },
        "outputId": "9dd95cf4-b7a1-4f6b-e522-533bfc91b3fe"
      },
      "execution_count": null,
      "outputs": [
        {
          "output_type": "stream",
          "name": "stdout",
          "text": [
            "['Mango', 'Apple', 'Banana', 'Pineapple', 'Custard Apple', 'Strawberry', 'Mulberry', 'Mulberry'] "
          ]
        }
      ]
    },
    {
      "cell_type": "code",
      "source": [
        "#display fruits which contain 'berry' using for loop \n",
        "for fruits in list3:\n",
        "  if 'berry' in fruits:\n",
        "    print(fruits)\n"
      ],
      "metadata": {
        "colab": {
          "base_uri": "https://localhost:8080/"
        },
        "id": "UM5KByM8Vts7",
        "outputId": "42487596-2b12-4224-ed27-30e9be737364"
      },
      "execution_count": null,
      "outputs": [
        {
          "output_type": "stream",
          "name": "stdout",
          "text": [
            "Strawberry\n",
            "Mulberry\n"
          ]
        }
      ]
    },
    {
      "cell_type": "code",
      "source": [
        "for fruits in list3:\n",
        "  if 'pple' in fruits:\n",
        "    print(fruits)"
      ],
      "metadata": {
        "colab": {
          "base_uri": "https://localhost:8080/"
        },
        "id": "Ct0I92dsZZ8e",
        "outputId": "94da2d59-b205-44bc-a865-5ba1d7f67066"
      },
      "execution_count": null,
      "outputs": [
        {
          "output_type": "stream",
          "name": "stdout",
          "text": [
            "Apple\n",
            "Pineapple\n",
            "Custard Apple\n"
          ]
        }
      ]
    },
    {
      "cell_type": "code",
      "source": [
        "list3.append(\"Black berry\")"
      ],
      "metadata": {
        "id": "7hk21qdiah_n"
      },
      "execution_count": null,
      "outputs": []
    },
    {
      "cell_type": "code",
      "source": [
        "#Store the fruits having berry in list4 and all other fruits in list5\n",
        "list4=[]\n",
        "list5=[]\n",
        "for fruits in list3:\n",
        "  if'berry' in fruits:\n",
        "    list4.append(fruits)\n",
        "  else:\n",
        "    list5.append(fruits)\n",
        "print(list4, end=\" \")\n",
        "print(list5, end=\" \")"
      ],
      "metadata": {
        "colab": {
          "base_uri": "https://localhost:8080/"
        },
        "id": "fp0ssJm_atb_",
        "outputId": "01de7f25-16c6-4575-95a9-366a4dee3fac"
      },
      "execution_count": null,
      "outputs": [
        {
          "output_type": "stream",
          "name": "stdout",
          "text": [
            "['Strawberry', 'Mulberry', 'Black berry'] ['Mango', 'Apple', 'Banana', 'Pineapple', 'Custard Apple'] "
          ]
        }
      ]
    },
    {
      "cell_type": "code",
      "source": [
        "#To create a list of squares of numbers from list1\n",
        "l1=[2,4,6,8,10]\n",
        "l2=[]\n",
        "for i in l1:\n",
        "  l2.append(i*i) #OR l2.append(i**2)\n",
        "print(l1)\n",
        "print(l2)"
      ],
      "metadata": {
        "colab": {
          "base_uri": "https://localhost:8080/"
        },
        "id": "fV14drP2cdQ4",
        "outputId": "043dad53-ec8e-4007-c631-c9f1a5cefa5e"
      },
      "execution_count": null,
      "outputs": [
        {
          "output_type": "stream",
          "name": "stdout",
          "text": [
            "[2, 4, 6, 8, 10]\n",
            "[4, 16, 36, 64, 100]\n"
          ]
        }
      ]
    },
    {
      "cell_type": "code",
      "source": [
        "l1=[1,2,3,4,5]\n",
        "l2=[i**2 for i in l1]\n",
        "print(l1)\n",
        "print(l2)"
      ],
      "metadata": {
        "id": "39_h3VU8dbjA",
        "colab": {
          "base_uri": "https://localhost:8080/"
        },
        "outputId": "0a499342-7af4-4c65-a50f-1f0ec33a19ec"
      },
      "execution_count": null,
      "outputs": [
        {
          "output_type": "stream",
          "name": "stdout",
          "text": [
            "[1, 2, 3, 4, 5]\n",
            "[1, 4, 9, 16, 25]\n"
          ]
        }
      ]
    },
    {
      "cell_type": "code",
      "source": [
        "newlist=[fruit for fruit in list3 if 'berry' in fruit]\n",
        "newlist"
      ],
      "metadata": {
        "colab": {
          "base_uri": "https://localhost:8080/"
        },
        "id": "VFXdMNquFY-n",
        "outputId": "d924be0d-915c-4c90-8ddd-01d34d52a10d"
      },
      "execution_count": null,
      "outputs": [
        {
          "output_type": "execute_result",
          "data": {
            "text/plain": [
              "['Strawberry']"
            ]
          },
          "metadata": {},
          "execution_count": 3
        }
      ]
    },
    {
      "cell_type": "code",
      "source": [
        "newlist1=[fruit for fruit in list3 if 'berry' not in fruit]\n",
        "newlist1"
      ],
      "metadata": {
        "colab": {
          "base_uri": "https://localhost:8080/"
        },
        "id": "rR5HWRwDHOoc",
        "outputId": "3fd76044-3844-4e1b-d9a0-2a626a69f295"
      },
      "execution_count": null,
      "outputs": [
        {
          "output_type": "execute_result",
          "data": {
            "text/plain": [
              "['Mango', 'Apple', 'Banana', 'Pineapple', 'Custard Apple']"
            ]
          },
          "metadata": {},
          "execution_count": 4
        }
      ]
    },
    {
      "cell_type": "code",
      "source": [
        "list3.index('Mango')"
      ],
      "metadata": {
        "colab": {
          "base_uri": "https://localhost:8080/"
        },
        "id": "1DcOR1BCHhBA",
        "outputId": "f6297ba4-c1e6-4532-c411-0edca2799893"
      },
      "execution_count": null,
      "outputs": [
        {
          "output_type": "execute_result",
          "data": {
            "text/plain": [
              "0"
            ]
          },
          "metadata": {},
          "execution_count": 5
        }
      ]
    },
    {
      "cell_type": "code",
      "source": [
        "list3[2]='Orange'\n",
        "list3"
      ],
      "metadata": {
        "colab": {
          "base_uri": "https://localhost:8080/"
        },
        "id": "0ucpj3cgIOY7",
        "outputId": "c2ef7985-c42f-4fa3-e38b-1ddaf06332c0"
      },
      "execution_count": null,
      "outputs": [
        {
          "output_type": "execute_result",
          "data": {
            "text/plain": [
              "['Mango', 'Apple', 'Orange', 'Pineapple', 'Custard Apple', 'Strawberry']"
            ]
          },
          "metadata": {},
          "execution_count": 7
        }
      ]
    },
    {
      "cell_type": "code",
      "source": [
        "#Data structure - 2. Tuple\n",
        "#Immutable, Created using ()\n",
        "t1=(1,3,64,89,1)\n",
        "t1"
      ],
      "metadata": {
        "colab": {
          "base_uri": "https://localhost:8080/"
        },
        "id": "v3LpC8KFJUsR",
        "outputId": "0fced9b4-9336-4e85-c6fd-bef99d569738"
      },
      "execution_count": null,
      "outputs": [
        {
          "output_type": "execute_result",
          "data": {
            "text/plain": [
              "(1, 3, 64, 89, 1)"
            ]
          },
          "metadata": {},
          "execution_count": 17
        }
      ]
    },
    {
      "cell_type": "code",
      "source": [
        "type(t1)"
      ],
      "metadata": {
        "colab": {
          "base_uri": "https://localhost:8080/"
        },
        "id": "1mcAiXbhKAle",
        "outputId": "4e5f944b-45ab-49f2-d897-c591452dc099"
      },
      "execution_count": null,
      "outputs": [
        {
          "output_type": "execute_result",
          "data": {
            "text/plain": [
              "tuple"
            ]
          },
          "metadata": {},
          "execution_count": 10
        }
      ]
    },
    {
      "cell_type": "code",
      "source": [
        "t1[3]"
      ],
      "metadata": {
        "colab": {
          "base_uri": "https://localhost:8080/"
        },
        "id": "urkJLX3fKDQQ",
        "outputId": "5ee76cd7-ac2a-41f8-a9f6-53859022f409"
      },
      "execution_count": null,
      "outputs": [
        {
          "output_type": "execute_result",
          "data": {
            "text/plain": [
              "89"
            ]
          },
          "metadata": {},
          "execution_count": 12
        }
      ]
    },
    {
      "cell_type": "code",
      "source": [
        "dir(tuple)"
      ],
      "metadata": {
        "colab": {
          "base_uri": "https://localhost:8080/"
        },
        "id": "bBpHUA2FKpQc",
        "outputId": "0573fcdd-e65a-4689-a7af-f59af4ce4852"
      },
      "execution_count": null,
      "outputs": [
        {
          "output_type": "execute_result",
          "data": {
            "text/plain": [
              "['__add__',\n",
              " '__class__',\n",
              " '__contains__',\n",
              " '__delattr__',\n",
              " '__dir__',\n",
              " '__doc__',\n",
              " '__eq__',\n",
              " '__format__',\n",
              " '__ge__',\n",
              " '__getattribute__',\n",
              " '__getitem__',\n",
              " '__getnewargs__',\n",
              " '__gt__',\n",
              " '__hash__',\n",
              " '__init__',\n",
              " '__init_subclass__',\n",
              " '__iter__',\n",
              " '__le__',\n",
              " '__len__',\n",
              " '__lt__',\n",
              " '__mul__',\n",
              " '__ne__',\n",
              " '__new__',\n",
              " '__reduce__',\n",
              " '__reduce_ex__',\n",
              " '__repr__',\n",
              " '__rmul__',\n",
              " '__setattr__',\n",
              " '__sizeof__',\n",
              " '__str__',\n",
              " '__subclasshook__',\n",
              " 'count',\n",
              " 'index']"
            ]
          },
          "metadata": {},
          "execution_count": 13
        }
      ]
    },
    {
      "cell_type": "code",
      "source": [
        "t1.count(1)"
      ],
      "metadata": {
        "colab": {
          "base_uri": "https://localhost:8080/"
        },
        "id": "AL4kfMpCK3OQ",
        "outputId": "63c7d013-e6e8-41d1-8476-06bfed26db50"
      },
      "execution_count": null,
      "outputs": [
        {
          "output_type": "execute_result",
          "data": {
            "text/plain": [
              "2"
            ]
          },
          "metadata": {},
          "execution_count": 18
        }
      ]
    },
    {
      "cell_type": "code",
      "source": [
        "t2=t1+(5,7,9,6,5)\n",
        "t2"
      ],
      "metadata": {
        "colab": {
          "base_uri": "https://localhost:8080/"
        },
        "id": "xnyMDZtmK7Ba",
        "outputId": "6eac94c2-1ffd-4e1b-893e-6730556c978b"
      },
      "execution_count": null,
      "outputs": [
        {
          "output_type": "execute_result",
          "data": {
            "text/plain": [
              "(1, 3, 64, 89, 1, 5, 7, 9, 6, 5)"
            ]
          },
          "metadata": {},
          "execution_count": 19
        }
      ]
    },
    {
      "cell_type": "code",
      "source": [
        "dir(t1)"
      ],
      "metadata": {
        "colab": {
          "base_uri": "https://localhost:8080/"
        },
        "id": "w5x1r8SSMPu3",
        "outputId": "afe1c9d9-f68e-4aff-9c47-d615ac3c2d34"
      },
      "execution_count": null,
      "outputs": [
        {
          "output_type": "execute_result",
          "data": {
            "text/plain": [
              "['__add__',\n",
              " '__class__',\n",
              " '__contains__',\n",
              " '__delattr__',\n",
              " '__dir__',\n",
              " '__doc__',\n",
              " '__eq__',\n",
              " '__format__',\n",
              " '__ge__',\n",
              " '__getattribute__',\n",
              " '__getitem__',\n",
              " '__getnewargs__',\n",
              " '__gt__',\n",
              " '__hash__',\n",
              " '__init__',\n",
              " '__init_subclass__',\n",
              " '__iter__',\n",
              " '__le__',\n",
              " '__len__',\n",
              " '__lt__',\n",
              " '__mul__',\n",
              " '__ne__',\n",
              " '__new__',\n",
              " '__reduce__',\n",
              " '__reduce_ex__',\n",
              " '__repr__',\n",
              " '__rmul__',\n",
              " '__setattr__',\n",
              " '__sizeof__',\n",
              " '__str__',\n",
              " '__subclasshook__',\n",
              " 'count',\n",
              " 'index']"
            ]
          },
          "metadata": {},
          "execution_count": 20
        }
      ]
    },
    {
      "cell_type": "code",
      "source": [
        "#Indexing and slicing in Tuple is same as List"
      ],
      "metadata": {
        "id": "BokGyXbZMjA6"
      },
      "execution_count": null,
      "outputs": []
    },
    {
      "cell_type": "code",
      "source": [
        "t2[1:5]"
      ],
      "metadata": {
        "colab": {
          "base_uri": "https://localhost:8080/"
        },
        "id": "p9szPXzGM4Ga",
        "outputId": "c3d1ad0b-b727-4d14-e2e6-bbf20e21e293"
      },
      "execution_count": null,
      "outputs": [
        {
          "output_type": "execute_result",
          "data": {
            "text/plain": [
              "(3, 64, 89, 1)"
            ]
          },
          "metadata": {},
          "execution_count": 21
        }
      ]
    },
    {
      "cell_type": "code",
      "source": [
        "#Data Structure3 3. Dictionary\n",
        "#In the dictionary we store data using key & value pair\n",
        "#Created using-{}\n",
        "#Mutable, ordered, Do not aloow duplicates\n",
        "capital_dict={\"Nepal\":'Kathmandu',\"Italy\":\"Rome\",\"England\":\"London\"}\n",
        "capital_dict"
      ],
      "metadata": {
        "colab": {
          "base_uri": "https://localhost:8080/"
        },
        "id": "f21BFnNyOQBO",
        "outputId": "840018ad-c282-4991-cba3-42dfcd6482ea"
      },
      "execution_count": 1,
      "outputs": [
        {
          "output_type": "execute_result",
          "data": {
            "text/plain": [
              "{'Nepal': 'Kathmandu', 'Italy': 'Rome', 'England': 'London'}"
            ]
          },
          "metadata": {},
          "execution_count": 1
        }
      ]
    },
    {
      "cell_type": "code",
      "source": [
        "type(capital_dict)"
      ],
      "metadata": {
        "colab": {
          "base_uri": "https://localhost:8080/"
        },
        "id": "mYPzsVhHPIgS",
        "outputId": "9b671411-e630-459f-e4cc-d87f32864bcf"
      },
      "execution_count": null,
      "outputs": [
        {
          "output_type": "execute_result",
          "data": {
            "text/plain": [
              "dict"
            ]
          },
          "metadata": {},
          "execution_count": 23
        }
      ]
    },
    {
      "cell_type": "code",
      "source": [
        "dir(dict)"
      ],
      "metadata": {
        "colab": {
          "base_uri": "https://localhost:8080/"
        },
        "id": "v3_q-ca-PmHu",
        "outputId": "932da891-6da1-4974-a5cb-729a090dec9e"
      },
      "execution_count": null,
      "outputs": [
        {
          "output_type": "execute_result",
          "data": {
            "text/plain": [
              "['__class__',\n",
              " '__contains__',\n",
              " '__delattr__',\n",
              " '__delitem__',\n",
              " '__dir__',\n",
              " '__doc__',\n",
              " '__eq__',\n",
              " '__format__',\n",
              " '__ge__',\n",
              " '__getattribute__',\n",
              " '__getitem__',\n",
              " '__gt__',\n",
              " '__hash__',\n",
              " '__init__',\n",
              " '__init_subclass__',\n",
              " '__iter__',\n",
              " '__le__',\n",
              " '__len__',\n",
              " '__lt__',\n",
              " '__ne__',\n",
              " '__new__',\n",
              " '__reduce__',\n",
              " '__reduce_ex__',\n",
              " '__repr__',\n",
              " '__reversed__',\n",
              " '__setattr__',\n",
              " '__setitem__',\n",
              " '__sizeof__',\n",
              " '__str__',\n",
              " '__subclasshook__',\n",
              " 'clear',\n",
              " 'copy',\n",
              " 'fromkeys',\n",
              " 'get',\n",
              " 'items',\n",
              " 'keys',\n",
              " 'pop',\n",
              " 'popitem',\n",
              " 'setdefault',\n",
              " 'update',\n",
              " 'values']"
            ]
          },
          "metadata": {},
          "execution_count": 24
        }
      ]
    },
    {
      "cell_type": "code",
      "source": [
        "#access elements from dictionary\n",
        "capital_dict[\"England\"]"
      ],
      "metadata": {
        "colab": {
          "base_uri": "https://localhost:8080/",
          "height": 35
        },
        "id": "94fb1Iq5Pw7S",
        "outputId": "623110d0-635c-4024-f71a-427dae6eb0cc"
      },
      "execution_count": null,
      "outputs": [
        {
          "output_type": "execute_result",
          "data": {
            "text/plain": [
              "'London'"
            ],
            "application/vnd.google.colaboratory.intrinsic+json": {
              "type": "string"
            }
          },
          "metadata": {},
          "execution_count": 25
        }
      ]
    },
    {
      "cell_type": "code",
      "source": [
        "capital_dict.keys()"
      ],
      "metadata": {
        "colab": {
          "base_uri": "https://localhost:8080/"
        },
        "id": "hyQ5ab7eRB8-",
        "outputId": "a1899704-45ac-4d40-8c44-a1c5712c26c3"
      },
      "execution_count": null,
      "outputs": [
        {
          "output_type": "execute_result",
          "data": {
            "text/plain": [
              "dict_keys(['Nepal', 'Italy', 'England'])"
            ]
          },
          "metadata": {},
          "execution_count": 26
        }
      ]
    },
    {
      "cell_type": "code",
      "source": [
        "capital_dict.values()"
      ],
      "metadata": {
        "colab": {
          "base_uri": "https://localhost:8080/"
        },
        "id": "h2yAsYfcRFK5",
        "outputId": "5a24bd5e-7530-475d-efda-98d2211550f2"
      },
      "execution_count": null,
      "outputs": [
        {
          "output_type": "execute_result",
          "data": {
            "text/plain": [
              "dict_values(['Kathmandu', 'Rome', 'London'])"
            ]
          },
          "metadata": {},
          "execution_count": 27
        }
      ]
    },
    {
      "cell_type": "code",
      "source": [
        "capital_dict.items()"
      ],
      "metadata": {
        "colab": {
          "base_uri": "https://localhost:8080/"
        },
        "id": "voCBPw28SPsN",
        "outputId": "31342365-1c5f-483c-96a5-59f8fe023a31"
      },
      "execution_count": null,
      "outputs": [
        {
          "output_type": "execute_result",
          "data": {
            "text/plain": [
              "dict_items([('Nepal', 'Kathmandu'), ('Italy', 'Rome'), ('England', 'London')])"
            ]
          },
          "metadata": {},
          "execution_count": 28
        }
      ]
    },
    {
      "cell_type": "code",
      "source": [
        "# The update() method updates the dictionary with the elements from another dictionary object or from an iterable of key/value pairs.\n",
        "add_capital={\"India\": \"New Delhi\",\"abc\":\"xyz\"}\n",
        "capital_dict.update(add_capital)"
      ],
      "metadata": {
        "id": "OnjwLKiYSUlo"
      },
      "execution_count": 2,
      "outputs": []
    },
    {
      "cell_type": "code",
      "source": [
        "capital_dict.update({\"Australia\":\"Sydney\"})\n",
        "capital_dict"
      ],
      "metadata": {
        "colab": {
          "base_uri": "https://localhost:8080/"
        },
        "id": "ujmav0ZKTilN",
        "outputId": "d4b0e736-46a0-4198-ccf4-7eb651068182"
      },
      "execution_count": 3,
      "outputs": [
        {
          "output_type": "execute_result",
          "data": {
            "text/plain": [
              "{'Nepal': 'Kathmandu',\n",
              " 'Italy': 'Rome',\n",
              " 'England': 'London',\n",
              " 'India': 'New Delhi',\n",
              " 'abc': 'xyz',\n",
              " 'Australia': 'Sydney'}"
            ]
          },
          "metadata": {},
          "execution_count": 3
        }
      ]
    },
    {
      "cell_type": "code",
      "source": [
        "#pop method removes and gives you the removed data\n",
        "capital_dict.pop(\"Australia\")"
      ],
      "metadata": {
        "id": "fs_HVJNBTvxv",
        "colab": {
          "base_uri": "https://localhost:8080/",
          "height": 35
        },
        "outputId": "9dc91b16-2b27-4441-9c09-2c25bc481006"
      },
      "execution_count": 4,
      "outputs": [
        {
          "output_type": "execute_result",
          "data": {
            "text/plain": [
              "'Sydney'"
            ],
            "application/vnd.google.colaboratory.intrinsic+json": {
              "type": "string"
            }
          },
          "metadata": {},
          "execution_count": 4
        }
      ]
    },
    {
      "cell_type": "code",
      "source": [
        "capital_dict"
      ],
      "metadata": {
        "colab": {
          "base_uri": "https://localhost:8080/"
        },
        "id": "Ge2ovG7E1ssS",
        "outputId": "47d8d5a7-1720-43e6-becd-fc645f5accc8"
      },
      "execution_count": 5,
      "outputs": [
        {
          "output_type": "execute_result",
          "data": {
            "text/plain": [
              "{'Nepal': 'Kathmandu',\n",
              " 'Italy': 'Rome',\n",
              " 'England': 'London',\n",
              " 'India': 'New Delhi',\n",
              " 'abc': 'xyz'}"
            ]
          },
          "metadata": {},
          "execution_count": 5
        }
      ]
    },
    {
      "cell_type": "code",
      "source": [
        "capital_dict['abc']=(\"Mumbai\")\n",
        "capital_dict"
      ],
      "metadata": {
        "id": "YAtCPbhxQ1xG",
        "colab": {
          "base_uri": "https://localhost:8080/"
        },
        "outputId": "f4fa6fd5-6b9e-4744-cf55-9fc16612d6b7"
      },
      "execution_count": 6,
      "outputs": [
        {
          "output_type": "execute_result",
          "data": {
            "text/plain": [
              "{'Nepal': 'Kathmandu',\n",
              " 'Italy': 'Rome',\n",
              " 'England': 'London',\n",
              " 'India': 'New Delhi',\n",
              " 'abc': 'Mumbai'}"
            ]
          },
          "metadata": {},
          "execution_count": 6
        }
      ]
    },
    {
      "cell_type": "code",
      "source": [
        "#removes the last data in dictionary\n",
        "capital_dict.popitem()"
      ],
      "metadata": {
        "colab": {
          "base_uri": "https://localhost:8080/"
        },
        "id": "OlvbLxD53B3o",
        "outputId": "ce2b740e-b455-43f1-c851-3da04d4fb401"
      },
      "execution_count": 7,
      "outputs": [
        {
          "output_type": "execute_result",
          "data": {
            "text/plain": [
              "('abc', 'Mumbai')"
            ]
          },
          "metadata": {},
          "execution_count": 7
        }
      ]
    },
    {
      "cell_type": "code",
      "source": [
        "capital_dict"
      ],
      "metadata": {
        "colab": {
          "base_uri": "https://localhost:8080/"
        },
        "id": "QraKeZdq3Jkm",
        "outputId": "dbace9c4-f38e-4e4e-aa1e-194223935b9b"
      },
      "execution_count": 8,
      "outputs": [
        {
          "output_type": "execute_result",
          "data": {
            "text/plain": [
              "{'Nepal': 'Kathmandu',\n",
              " 'Italy': 'Rome',\n",
              " 'England': 'London',\n",
              " 'India': 'New Delhi'}"
            ]
          },
          "metadata": {},
          "execution_count": 8
        }
      ]
    },
    {
      "cell_type": "code",
      "source": [
        "#Keys can be of different datatypes\n",
        "mylist=[\"Mango\",\"Orange\",\"Strawberry\",\"Banana\",\"Mulberry\",\"Black berry\"]\n",
        "mytuple=(20,53,45,78,89,65,97)\n",
        "mydict={\"A\":mylist,\n",
        "        \"B\":mytuple,\n",
        "        \"C\":capital_dict\n",
        "       }\n",
        "mydict"
      ],
      "metadata": {
        "colab": {
          "base_uri": "https://localhost:8080/"
        },
        "id": "0VQmLWbg3Mwz",
        "outputId": "cff88874-8e35-43dc-927a-df6ff1e041a2"
      },
      "execution_count": 9,
      "outputs": [
        {
          "output_type": "execute_result",
          "data": {
            "text/plain": [
              "{'A': ['Mango', 'Orange', 'Strawberry', 'Banana', 'Mulberry', 'Black berry'],\n",
              " 'B': (20, 53, 45, 78, 89, 65, 97),\n",
              " 'C': {'Nepal': 'Kathmandu',\n",
              "  'Italy': 'Rome',\n",
              "  'England': 'London',\n",
              "  'India': 'New Delhi'}}"
            ]
          },
          "metadata": {},
          "execution_count": 9
        }
      ]
    },
    {
      "cell_type": "code",
      "source": [
        "mydict[\"B\"]"
      ],
      "metadata": {
        "colab": {
          "base_uri": "https://localhost:8080/"
        },
        "id": "JudkYcHW4AQM",
        "outputId": "3b2e5f4f-f2fa-4e50-dfbd-032abebd0c33"
      },
      "execution_count": 12,
      "outputs": [
        {
          "output_type": "execute_result",
          "data": {
            "text/plain": [
              "(20, 53, 45, 78, 89, 65, 97)"
            ]
          },
          "metadata": {},
          "execution_count": 12
        }
      ]
    },
    {
      "cell_type": "code",
      "source": [
        "mydict[\"A\"][0]"
      ],
      "metadata": {
        "colab": {
          "base_uri": "https://localhost:8080/",
          "height": 35
        },
        "id": "hTVGiAz249iQ",
        "outputId": "2258f54d-301b-41aa-86fd-59c65f1b408f"
      },
      "execution_count": 13,
      "outputs": [
        {
          "output_type": "execute_result",
          "data": {
            "text/plain": [
              "'Mango'"
            ],
            "application/vnd.google.colaboratory.intrinsic+json": {
              "type": "string"
            }
          },
          "metadata": {},
          "execution_count": 13
        }
      ]
    },
    {
      "cell_type": "code",
      "source": [
        "#Exports math package\n",
        "from math import sqrt"
      ],
      "metadata": {
        "id": "IsVcryP55SbZ"
      },
      "execution_count": 18,
      "outputs": []
    },
    {
      "cell_type": "code",
      "source": [
        "sqrt(25)"
      ],
      "metadata": {
        "colab": {
          "base_uri": "https://localhost:8080/"
        },
        "id": "WOSL7TRv53vi",
        "outputId": "d565eabb-8276-4d07-de44-19e68aad7a29"
      },
      "execution_count": 19,
      "outputs": [
        {
          "output_type": "execute_result",
          "data": {
            "text/plain": [
              "5.0"
            ]
          },
          "metadata": {},
          "execution_count": 19
        }
      ]
    },
    {
      "cell_type": "code",
      "source": [
        "from math import factorial"
      ],
      "metadata": {
        "id": "Nh9Tg5ac6Vf2"
      },
      "execution_count": 20,
      "outputs": []
    },
    {
      "cell_type": "code",
      "source": [
        "factorial(3)"
      ],
      "metadata": {
        "colab": {
          "base_uri": "https://localhost:8080/"
        },
        "id": "kZok9obC6nvo",
        "outputId": "10223a85-3359-410c-b440-0bb3c62fa785"
      },
      "execution_count": 21,
      "outputs": [
        {
          "output_type": "execute_result",
          "data": {
            "text/plain": [
              "6"
            ]
          },
          "metadata": {},
          "execution_count": 21
        }
      ]
    },
    {
      "cell_type": "code",
      "source": [
        "from math import *"
      ],
      "metadata": {
        "id": "J8myF0BD6rk8"
      },
      "execution_count": 22,
      "outputs": []
    },
    {
      "cell_type": "code",
      "source": [
        "l6=[5,12,2]\n",
        "prod(l6)"
      ],
      "metadata": {
        "colab": {
          "base_uri": "https://localhost:8080/"
        },
        "id": "xqbOc9ZZ6z1h",
        "outputId": "007880ab-fd07-4ef0-f3a6-6e5691ce4b9c"
      },
      "execution_count": 24,
      "outputs": [
        {
          "output_type": "execute_result",
          "data": {
            "text/plain": [
              "120"
            ]
          },
          "metadata": {},
          "execution_count": 24
        }
      ]
    },
    {
      "cell_type": "code",
      "source": [
        "# OR you can say 'import math'\n",
        "# But while calling any function you have to use math.Function_Name()\n",
        "# The math.prod() method returns the product of the elements from the given iterable.\n",
        "import math # or 'import math as mt', mt.sqrt(64 )\n",
        "sequence = (2, 2,5,6) # iterable where elements are given\n",
        "print(math.prod(sequence))"
      ],
      "metadata": {
        "colab": {
          "base_uri": "https://localhost:8080/"
        },
        "id": "6E3TCbzP67AT",
        "outputId": "e27abc76-5abd-4019-99f4-cb57b08542f6"
      },
      "execution_count": 25,
      "outputs": [
        {
          "output_type": "stream",
          "name": "stdout",
          "text": [
            "120\n"
          ]
        }
      ]
    },
    {
      "cell_type": "code",
      "source": [
        "l1=[2,3,4]\n",
        "prod(l1)"
      ],
      "metadata": {
        "colab": {
          "base_uri": "https://localhost:8080/"
        },
        "id": "sElNq4J47lI-",
        "outputId": "ba918d33-557d-4eb0-f43e-3074b1b1c243"
      },
      "execution_count": 26,
      "outputs": [
        {
          "output_type": "execute_result",
          "data": {
            "text/plain": [
              "24"
            ]
          },
          "metadata": {},
          "execution_count": 26
        }
      ]
    },
    {
      "cell_type": "code",
      "source": [
        "dir(math)"
      ],
      "metadata": {
        "colab": {
          "base_uri": "https://localhost:8080/"
        },
        "id": "0x0L_CSv8ZPQ",
        "outputId": "ce6840a8-a3f6-4ba3-90c1-21c53956a344"
      },
      "execution_count": 27,
      "outputs": [
        {
          "output_type": "execute_result",
          "data": {
            "text/plain": [
              "['__doc__',\n",
              " '__loader__',\n",
              " '__name__',\n",
              " '__package__',\n",
              " '__spec__',\n",
              " 'acos',\n",
              " 'acosh',\n",
              " 'asin',\n",
              " 'asinh',\n",
              " 'atan',\n",
              " 'atan2',\n",
              " 'atanh',\n",
              " 'ceil',\n",
              " 'comb',\n",
              " 'copysign',\n",
              " 'cos',\n",
              " 'cosh',\n",
              " 'degrees',\n",
              " 'dist',\n",
              " 'e',\n",
              " 'erf',\n",
              " 'erfc',\n",
              " 'exp',\n",
              " 'expm1',\n",
              " 'fabs',\n",
              " 'factorial',\n",
              " 'floor',\n",
              " 'fmod',\n",
              " 'frexp',\n",
              " 'fsum',\n",
              " 'gamma',\n",
              " 'gcd',\n",
              " 'hypot',\n",
              " 'inf',\n",
              " 'isclose',\n",
              " 'isfinite',\n",
              " 'isinf',\n",
              " 'isnan',\n",
              " 'isqrt',\n",
              " 'ldexp',\n",
              " 'lgamma',\n",
              " 'log',\n",
              " 'log10',\n",
              " 'log1p',\n",
              " 'log2',\n",
              " 'modf',\n",
              " 'nan',\n",
              " 'perm',\n",
              " 'pi',\n",
              " 'pow',\n",
              " 'prod',\n",
              " 'radians',\n",
              " 'remainder',\n",
              " 'sin',\n",
              " 'sinh',\n",
              " 'sqrt',\n",
              " 'tan',\n",
              " 'tanh',\n",
              " 'tau',\n",
              " 'trunc']"
            ]
          },
          "metadata": {},
          "execution_count": 27
        }
      ]
    }
  ]
}